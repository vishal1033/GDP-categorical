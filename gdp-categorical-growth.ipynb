{
 "cells": [
  {
   "cell_type": "code",
   "execution_count": 37,
   "id": "be866059-834a-4477-a510-4465f4333ef2",
   "metadata": {},
   "outputs": [],
   "source": [
    "import pandas as pd\n",
    "import numpy as np\n",
    "import matplotlib.pyplot as plt\n",
    "import seaborn as sns"
   ]
  },
  {
   "cell_type": "code",
   "execution_count": null,
   "id": "fb8d88d1-edb8-4f24-9515-175a5d410b0a",
   "metadata": {},
   "outputs": [],
   "source": [
    "#Adding Datasets and preprocessing them for better understanding"
   ]
  },
  {
   "cell_type": "code",
   "execution_count": 11,
   "id": "a3cef23f-b17d-4596-b308-0f9639eb1353",
   "metadata": {},
   "outputs": [],
   "source": [
    "df_1 = pd.read_csv(\"/Users/vishaldubey/Downloads/archive/Metadata_Country_API_NY.GDP.MKTP.KD.ZG_DS2_en_csv_v2_4701072.csv\")\n",
    "df_2 = pd.read_csv(\"/Users/vishaldubey/Downloads/archive/Metadata_Indicator_API_NY.GDP.MKTP.KD.ZG_DS2_en_csv_v2_4701072.csv\")"
   ]
  },
  {
   "cell_type": "code",
   "execution_count": 12,
   "id": "0f641aa5-b0dd-4fb9-951a-cf00e38c10ca",
   "metadata": {},
   "outputs": [
    {
     "data": {
      "text/html": [
       "<div>\n",
       "<style scoped>\n",
       "    .dataframe tbody tr th:only-of-type {\n",
       "        vertical-align: middle;\n",
       "    }\n",
       "\n",
       "    .dataframe tbody tr th {\n",
       "        vertical-align: top;\n",
       "    }\n",
       "\n",
       "    .dataframe thead th {\n",
       "        text-align: right;\n",
       "    }\n",
       "</style>\n",
       "<table border=\"1\" class=\"dataframe\">\n",
       "  <thead>\n",
       "    <tr style=\"text-align: right;\">\n",
       "      <th></th>\n",
       "      <th>Country Code</th>\n",
       "      <th>Region</th>\n",
       "      <th>IncomeGroup</th>\n",
       "      <th>SpecialNotes</th>\n",
       "      <th>TableName</th>\n",
       "      <th>Unnamed: 5</th>\n",
       "    </tr>\n",
       "  </thead>\n",
       "  <tbody>\n",
       "    <tr>\n",
       "      <th>0</th>\n",
       "      <td>ABW</td>\n",
       "      <td>Latin America &amp; Caribbean</td>\n",
       "      <td>High income</td>\n",
       "      <td>NaN</td>\n",
       "      <td>Aruba</td>\n",
       "      <td>NaN</td>\n",
       "    </tr>\n",
       "    <tr>\n",
       "      <th>1</th>\n",
       "      <td>AFE</td>\n",
       "      <td>NaN</td>\n",
       "      <td>NaN</td>\n",
       "      <td>26 countries, stretching from the Red Sea in t...</td>\n",
       "      <td>Africa Eastern and Southern</td>\n",
       "      <td>NaN</td>\n",
       "    </tr>\n",
       "    <tr>\n",
       "      <th>2</th>\n",
       "      <td>AFG</td>\n",
       "      <td>South Asia</td>\n",
       "      <td>Low income</td>\n",
       "      <td>The reporting period for national accounts dat...</td>\n",
       "      <td>Afghanistan</td>\n",
       "      <td>NaN</td>\n",
       "    </tr>\n",
       "    <tr>\n",
       "      <th>3</th>\n",
       "      <td>AFW</td>\n",
       "      <td>NaN</td>\n",
       "      <td>NaN</td>\n",
       "      <td>22 countries, stretching from the westernmost ...</td>\n",
       "      <td>Africa Western and Central</td>\n",
       "      <td>NaN</td>\n",
       "    </tr>\n",
       "    <tr>\n",
       "      <th>4</th>\n",
       "      <td>AGO</td>\n",
       "      <td>Sub-Saharan Africa</td>\n",
       "      <td>Lower middle income</td>\n",
       "      <td>The World Bank systematically assesses the app...</td>\n",
       "      <td>Angola</td>\n",
       "      <td>NaN</td>\n",
       "    </tr>\n",
       "  </tbody>\n",
       "</table>\n",
       "</div>"
      ],
      "text/plain": [
       "  Country Code                     Region          IncomeGroup  \\\n",
       "0          ABW  Latin America & Caribbean          High income   \n",
       "1          AFE                        NaN                  NaN   \n",
       "2          AFG                 South Asia           Low income   \n",
       "3          AFW                        NaN                  NaN   \n",
       "4          AGO         Sub-Saharan Africa  Lower middle income   \n",
       "\n",
       "                                        SpecialNotes  \\\n",
       "0                                                NaN   \n",
       "1  26 countries, stretching from the Red Sea in t...   \n",
       "2  The reporting period for national accounts dat...   \n",
       "3  22 countries, stretching from the westernmost ...   \n",
       "4  The World Bank systematically assesses the app...   \n",
       "\n",
       "                     TableName  Unnamed: 5  \n",
       "0                        Aruba         NaN  \n",
       "1  Africa Eastern and Southern         NaN  \n",
       "2                  Afghanistan         NaN  \n",
       "3   Africa Western and Central         NaN  \n",
       "4                       Angola         NaN  "
      ]
     },
     "execution_count": 12,
     "metadata": {},
     "output_type": "execute_result"
    }
   ],
   "source": [
    "df_1.head()"
   ]
  },
  {
   "cell_type": "code",
   "execution_count": null,
   "id": "184ef796-6422-4c8a-8cd2-7d293e388649",
   "metadata": {},
   "outputs": [],
   "source": [
    "#Dropping unwanted column"
   ]
  },
  {
   "cell_type": "code",
   "execution_count": 14,
   "id": "2d1af900-fec1-4565-b0e1-d5ce8a171ad9",
   "metadata": {},
   "outputs": [],
   "source": [
    "raw = df_1.drop(\"Unnamed: 5\", axis=1)"
   ]
  },
  {
   "cell_type": "code",
   "execution_count": 16,
   "id": "55c87dee-5a63-4c7a-99a1-e824d5ecbc51",
   "metadata": {},
   "outputs": [
    {
     "data": {
      "text/plain": [
       "Index(['Country Code', 'Region', 'IncomeGroup', 'SpecialNotes', 'TableName'], dtype='object')"
      ]
     },
     "execution_count": 16,
     "metadata": {},
     "output_type": "execute_result"
    }
   ],
   "source": [
    "raw.columns"
   ]
  },
  {
   "cell_type": "code",
   "execution_count": 17,
   "id": "090830b7-068c-4af7-95cc-9b0d22970db2",
   "metadata": {},
   "outputs": [
    {
     "data": {
      "text/html": [
       "<div>\n",
       "<style scoped>\n",
       "    .dataframe tbody tr th:only-of-type {\n",
       "        vertical-align: middle;\n",
       "    }\n",
       "\n",
       "    .dataframe tbody tr th {\n",
       "        vertical-align: top;\n",
       "    }\n",
       "\n",
       "    .dataframe thead th {\n",
       "        text-align: right;\n",
       "    }\n",
       "</style>\n",
       "<table border=\"1\" class=\"dataframe\">\n",
       "  <thead>\n",
       "    <tr style=\"text-align: right;\">\n",
       "      <th></th>\n",
       "      <th>Country Code</th>\n",
       "      <th>Region</th>\n",
       "      <th>IncomeGroup</th>\n",
       "      <th>SpecialNotes</th>\n",
       "      <th>TableName</th>\n",
       "    </tr>\n",
       "  </thead>\n",
       "  <tbody>\n",
       "    <tr>\n",
       "      <th>0</th>\n",
       "      <td>ABW</td>\n",
       "      <td>Latin America &amp; Caribbean</td>\n",
       "      <td>High income</td>\n",
       "      <td>NaN</td>\n",
       "      <td>Aruba</td>\n",
       "    </tr>\n",
       "    <tr>\n",
       "      <th>1</th>\n",
       "      <td>AFE</td>\n",
       "      <td>NaN</td>\n",
       "      <td>NaN</td>\n",
       "      <td>26 countries, stretching from the Red Sea in t...</td>\n",
       "      <td>Africa Eastern and Southern</td>\n",
       "    </tr>\n",
       "    <tr>\n",
       "      <th>2</th>\n",
       "      <td>AFG</td>\n",
       "      <td>South Asia</td>\n",
       "      <td>Low income</td>\n",
       "      <td>The reporting period for national accounts dat...</td>\n",
       "      <td>Afghanistan</td>\n",
       "    </tr>\n",
       "    <tr>\n",
       "      <th>3</th>\n",
       "      <td>AFW</td>\n",
       "      <td>NaN</td>\n",
       "      <td>NaN</td>\n",
       "      <td>22 countries, stretching from the westernmost ...</td>\n",
       "      <td>Africa Western and Central</td>\n",
       "    </tr>\n",
       "    <tr>\n",
       "      <th>4</th>\n",
       "      <td>AGO</td>\n",
       "      <td>Sub-Saharan Africa</td>\n",
       "      <td>Lower middle income</td>\n",
       "      <td>The World Bank systematically assesses the app...</td>\n",
       "      <td>Angola</td>\n",
       "    </tr>\n",
       "  </tbody>\n",
       "</table>\n",
       "</div>"
      ],
      "text/plain": [
       "  Country Code                     Region          IncomeGroup  \\\n",
       "0          ABW  Latin America & Caribbean          High income   \n",
       "1          AFE                        NaN                  NaN   \n",
       "2          AFG                 South Asia           Low income   \n",
       "3          AFW                        NaN                  NaN   \n",
       "4          AGO         Sub-Saharan Africa  Lower middle income   \n",
       "\n",
       "                                        SpecialNotes  \\\n",
       "0                                                NaN   \n",
       "1  26 countries, stretching from the Red Sea in t...   \n",
       "2  The reporting period for national accounts dat...   \n",
       "3  22 countries, stretching from the westernmost ...   \n",
       "4  The World Bank systematically assesses the app...   \n",
       "\n",
       "                     TableName  \n",
       "0                        Aruba  \n",
       "1  Africa Eastern and Southern  \n",
       "2                  Afghanistan  \n",
       "3   Africa Western and Central  \n",
       "4                       Angola  "
      ]
     },
     "execution_count": 17,
     "metadata": {},
     "output_type": "execute_result"
    }
   ],
   "source": [
    "raw.head()"
   ]
  },
  {
   "cell_type": "code",
   "execution_count": 18,
   "id": "7e8f1baa-a4a7-4276-b2b6-1d19bbaf9db0",
   "metadata": {},
   "outputs": [
    {
     "data": {
      "text/html": [
       "<div>\n",
       "<style scoped>\n",
       "    .dataframe tbody tr th:only-of-type {\n",
       "        vertical-align: middle;\n",
       "    }\n",
       "\n",
       "    .dataframe tbody tr th {\n",
       "        vertical-align: top;\n",
       "    }\n",
       "\n",
       "    .dataframe thead th {\n",
       "        text-align: right;\n",
       "    }\n",
       "</style>\n",
       "<table border=\"1\" class=\"dataframe\">\n",
       "  <thead>\n",
       "    <tr style=\"text-align: right;\">\n",
       "      <th></th>\n",
       "      <th>INDICATOR_CODE</th>\n",
       "      <th>INDICATOR_NAME</th>\n",
       "      <th>SOURCE_NOTE</th>\n",
       "      <th>SOURCE_ORGANIZATION</th>\n",
       "      <th>Unnamed: 4</th>\n",
       "    </tr>\n",
       "  </thead>\n",
       "  <tbody>\n",
       "    <tr>\n",
       "      <th>0</th>\n",
       "      <td>NY.GDP.MKTP.KD.ZG</td>\n",
       "      <td>GDP growth (annual %)</td>\n",
       "      <td>Annual percentage growth rate of GDP at market...</td>\n",
       "      <td>World Bank national accounts data, and OECD Na...</td>\n",
       "      <td>NaN</td>\n",
       "    </tr>\n",
       "  </tbody>\n",
       "</table>\n",
       "</div>"
      ],
      "text/plain": [
       "      INDICATOR_CODE         INDICATOR_NAME  \\\n",
       "0  NY.GDP.MKTP.KD.ZG  GDP growth (annual %)   \n",
       "\n",
       "                                         SOURCE_NOTE  \\\n",
       "0  Annual percentage growth rate of GDP at market...   \n",
       "\n",
       "                                 SOURCE_ORGANIZATION  Unnamed: 4  \n",
       "0  World Bank national accounts data, and OECD Na...         NaN  "
      ]
     },
     "execution_count": 18,
     "metadata": {},
     "output_type": "execute_result"
    }
   ],
   "source": [
    "df_2.head()"
   ]
  },
  {
   "cell_type": "code",
   "execution_count": 20,
   "id": "8df36ce2-c76a-4050-a230-f15bbb0f3964",
   "metadata": {},
   "outputs": [],
   "source": [
    "raw_1 = df_2.drop(\"Unnamed: 4\", axis =1)"
   ]
  },
  {
   "cell_type": "code",
   "execution_count": 21,
   "id": "cd0fde6d-f60f-4be7-9a16-f1ecad01137e",
   "metadata": {},
   "outputs": [
    {
     "data": {
      "text/html": [
       "<div>\n",
       "<style scoped>\n",
       "    .dataframe tbody tr th:only-of-type {\n",
       "        vertical-align: middle;\n",
       "    }\n",
       "\n",
       "    .dataframe tbody tr th {\n",
       "        vertical-align: top;\n",
       "    }\n",
       "\n",
       "    .dataframe thead th {\n",
       "        text-align: right;\n",
       "    }\n",
       "</style>\n",
       "<table border=\"1\" class=\"dataframe\">\n",
       "  <thead>\n",
       "    <tr style=\"text-align: right;\">\n",
       "      <th></th>\n",
       "      <th>INDICATOR_CODE</th>\n",
       "      <th>INDICATOR_NAME</th>\n",
       "      <th>SOURCE_NOTE</th>\n",
       "      <th>SOURCE_ORGANIZATION</th>\n",
       "    </tr>\n",
       "  </thead>\n",
       "  <tbody>\n",
       "    <tr>\n",
       "      <th>0</th>\n",
       "      <td>NY.GDP.MKTP.KD.ZG</td>\n",
       "      <td>GDP growth (annual %)</td>\n",
       "      <td>Annual percentage growth rate of GDP at market...</td>\n",
       "      <td>World Bank national accounts data, and OECD Na...</td>\n",
       "    </tr>\n",
       "  </tbody>\n",
       "</table>\n",
       "</div>"
      ],
      "text/plain": [
       "      INDICATOR_CODE         INDICATOR_NAME  \\\n",
       "0  NY.GDP.MKTP.KD.ZG  GDP growth (annual %)   \n",
       "\n",
       "                                         SOURCE_NOTE  \\\n",
       "0  Annual percentage growth rate of GDP at market...   \n",
       "\n",
       "                                 SOURCE_ORGANIZATION  \n",
       "0  World Bank national accounts data, and OECD Na...  "
      ]
     },
     "execution_count": 21,
     "metadata": {},
     "output_type": "execute_result"
    }
   ],
   "source": [
    "raw_1.head()"
   ]
  },
  {
   "cell_type": "code",
   "execution_count": null,
   "id": "a5aa1d8e-2698-4a54-a7e5-91d8eb5a4583",
   "metadata": {},
   "outputs": [],
   "source": [
    "#Merging the two new dataframes into one"
   ]
  },
  {
   "cell_type": "code",
   "execution_count": 22,
   "id": "be0c293c-8eb4-42b4-8f45-aa283730d55c",
   "metadata": {},
   "outputs": [],
   "source": [
    "df = pd.concat([raw,raw_1], axis =1)"
   ]
  },
  {
   "cell_type": "code",
   "execution_count": 23,
   "id": "1a98fec2-f8d6-48eb-ac1e-2c5865f37496",
   "metadata": {},
   "outputs": [
    {
     "data": {
      "text/html": [
       "<div>\n",
       "<style scoped>\n",
       "    .dataframe tbody tr th:only-of-type {\n",
       "        vertical-align: middle;\n",
       "    }\n",
       "\n",
       "    .dataframe tbody tr th {\n",
       "        vertical-align: top;\n",
       "    }\n",
       "\n",
       "    .dataframe thead th {\n",
       "        text-align: right;\n",
       "    }\n",
       "</style>\n",
       "<table border=\"1\" class=\"dataframe\">\n",
       "  <thead>\n",
       "    <tr style=\"text-align: right;\">\n",
       "      <th></th>\n",
       "      <th>Country Code</th>\n",
       "      <th>Region</th>\n",
       "      <th>IncomeGroup</th>\n",
       "      <th>SpecialNotes</th>\n",
       "      <th>TableName</th>\n",
       "      <th>INDICATOR_CODE</th>\n",
       "      <th>INDICATOR_NAME</th>\n",
       "      <th>SOURCE_NOTE</th>\n",
       "      <th>SOURCE_ORGANIZATION</th>\n",
       "    </tr>\n",
       "  </thead>\n",
       "  <tbody>\n",
       "    <tr>\n",
       "      <th>0</th>\n",
       "      <td>ABW</td>\n",
       "      <td>Latin America &amp; Caribbean</td>\n",
       "      <td>High income</td>\n",
       "      <td>NaN</td>\n",
       "      <td>Aruba</td>\n",
       "      <td>NY.GDP.MKTP.KD.ZG</td>\n",
       "      <td>GDP growth (annual %)</td>\n",
       "      <td>Annual percentage growth rate of GDP at market...</td>\n",
       "      <td>World Bank national accounts data, and OECD Na...</td>\n",
       "    </tr>\n",
       "    <tr>\n",
       "      <th>1</th>\n",
       "      <td>AFE</td>\n",
       "      <td>NaN</td>\n",
       "      <td>NaN</td>\n",
       "      <td>26 countries, stretching from the Red Sea in t...</td>\n",
       "      <td>Africa Eastern and Southern</td>\n",
       "      <td>NaN</td>\n",
       "      <td>NaN</td>\n",
       "      <td>NaN</td>\n",
       "      <td>NaN</td>\n",
       "    </tr>\n",
       "    <tr>\n",
       "      <th>2</th>\n",
       "      <td>AFG</td>\n",
       "      <td>South Asia</td>\n",
       "      <td>Low income</td>\n",
       "      <td>The reporting period for national accounts dat...</td>\n",
       "      <td>Afghanistan</td>\n",
       "      <td>NaN</td>\n",
       "      <td>NaN</td>\n",
       "      <td>NaN</td>\n",
       "      <td>NaN</td>\n",
       "    </tr>\n",
       "    <tr>\n",
       "      <th>3</th>\n",
       "      <td>AFW</td>\n",
       "      <td>NaN</td>\n",
       "      <td>NaN</td>\n",
       "      <td>22 countries, stretching from the westernmost ...</td>\n",
       "      <td>Africa Western and Central</td>\n",
       "      <td>NaN</td>\n",
       "      <td>NaN</td>\n",
       "      <td>NaN</td>\n",
       "      <td>NaN</td>\n",
       "    </tr>\n",
       "    <tr>\n",
       "      <th>4</th>\n",
       "      <td>AGO</td>\n",
       "      <td>Sub-Saharan Africa</td>\n",
       "      <td>Lower middle income</td>\n",
       "      <td>The World Bank systematically assesses the app...</td>\n",
       "      <td>Angola</td>\n",
       "      <td>NaN</td>\n",
       "      <td>NaN</td>\n",
       "      <td>NaN</td>\n",
       "      <td>NaN</td>\n",
       "    </tr>\n",
       "  </tbody>\n",
       "</table>\n",
       "</div>"
      ],
      "text/plain": [
       "  Country Code                     Region          IncomeGroup  \\\n",
       "0          ABW  Latin America & Caribbean          High income   \n",
       "1          AFE                        NaN                  NaN   \n",
       "2          AFG                 South Asia           Low income   \n",
       "3          AFW                        NaN                  NaN   \n",
       "4          AGO         Sub-Saharan Africa  Lower middle income   \n",
       "\n",
       "                                        SpecialNotes  \\\n",
       "0                                                NaN   \n",
       "1  26 countries, stretching from the Red Sea in t...   \n",
       "2  The reporting period for national accounts dat...   \n",
       "3  22 countries, stretching from the westernmost ...   \n",
       "4  The World Bank systematically assesses the app...   \n",
       "\n",
       "                     TableName     INDICATOR_CODE         INDICATOR_NAME  \\\n",
       "0                        Aruba  NY.GDP.MKTP.KD.ZG  GDP growth (annual %)   \n",
       "1  Africa Eastern and Southern                NaN                    NaN   \n",
       "2                  Afghanistan                NaN                    NaN   \n",
       "3   Africa Western and Central                NaN                    NaN   \n",
       "4                       Angola                NaN                    NaN   \n",
       "\n",
       "                                         SOURCE_NOTE  \\\n",
       "0  Annual percentage growth rate of GDP at market...   \n",
       "1                                                NaN   \n",
       "2                                                NaN   \n",
       "3                                                NaN   \n",
       "4                                                NaN   \n",
       "\n",
       "                                 SOURCE_ORGANIZATION  \n",
       "0  World Bank national accounts data, and OECD Na...  \n",
       "1                                                NaN  \n",
       "2                                                NaN  \n",
       "3                                                NaN  \n",
       "4                                                NaN  "
      ]
     },
     "execution_count": 23,
     "metadata": {},
     "output_type": "execute_result"
    }
   ],
   "source": [
    "df.head()"
   ]
  },
  {
   "cell_type": "code",
   "execution_count": 25,
   "id": "154bb578-dc2d-4090-9b88-1c436006dc5c",
   "metadata": {},
   "outputs": [
    {
     "data": {
      "text/plain": [
       "(265, 9)"
      ]
     },
     "execution_count": 25,
     "metadata": {},
     "output_type": "execute_result"
    }
   ],
   "source": [
    "df.shape"
   ]
  },
  {
   "cell_type": "code",
   "execution_count": null,
   "id": "88a71399-d05b-4cae-94a4-80c61d837f96",
   "metadata": {},
   "outputs": [],
   "source": [
    "#Looking at dataset we only require IncomeGroup, TableName & Region for EDA and visualization."
   ]
  },
  {
   "cell_type": "code",
   "execution_count": 28,
   "id": "f84e6311-912d-4041-ab5c-4c8e3e9c1c5f",
   "metadata": {},
   "outputs": [
    {
     "data": {
      "text/plain": [
       "High income            80\n",
       "Lower middle income    54\n",
       "Upper middle income    54\n",
       "Low income             28\n",
       "Name: IncomeGroup, dtype: int64"
      ]
     },
     "execution_count": 28,
     "metadata": {},
     "output_type": "execute_result"
    }
   ],
   "source": [
    "df['IncomeGroup'].value_counts()"
   ]
  },
  {
   "cell_type": "code",
   "execution_count": 29,
   "id": "3c82a875-1eb9-4b42-9191-7b692247f3f4",
   "metadata": {},
   "outputs": [
    {
     "data": {
      "text/plain": [
       "Europe & Central Asia         58\n",
       "Sub-Saharan Africa            48\n",
       "Latin America & Caribbean     42\n",
       "East Asia & Pacific           37\n",
       "Middle East & North Africa    21\n",
       "South Asia                     8\n",
       "North America                  3\n",
       "Name: Region, dtype: int64"
      ]
     },
     "execution_count": 29,
     "metadata": {},
     "output_type": "execute_result"
    }
   ],
   "source": [
    "df['Region'].value_counts()"
   ]
  },
  {
   "cell_type": "code",
   "execution_count": 30,
   "id": "a6c7558c-2dc3-4a82-bf85-65d877bde1cb",
   "metadata": {},
   "outputs": [
    {
     "data": {
      "text/plain": [
       "Aruba                   1\n",
       "Other small states      1\n",
       "Malaysia                1\n",
       "North America           1\n",
       "Namibia                 1\n",
       "                       ..\n",
       "Guyana                  1\n",
       "High income             1\n",
       "Hong Kong SAR, China    1\n",
       "Honduras                1\n",
       "Zimbabwe                1\n",
       "Name: TableName, Length: 265, dtype: int64"
      ]
     },
     "execution_count": 30,
     "metadata": {},
     "output_type": "execute_result"
    }
   ],
   "source": [
    "df['TableName'].value_counts()"
   ]
  },
  {
   "cell_type": "code",
   "execution_count": null,
   "id": "71d2c4c3-09ed-4f40-bc16-856e8fa08a6b",
   "metadata": {},
   "outputs": [],
   "source": [
    "#As there are many unknown values in Income Group & Region which needs to be filtered out, so filling out all those places with '0'"
   ]
  },
  {
   "cell_type": "code",
   "execution_count": 34,
   "id": "97ddbc17-c3f8-4449-98ce-e6576450cfcc",
   "metadata": {},
   "outputs": [
    {
     "data": {
      "text/html": [
       "<div>\n",
       "<style scoped>\n",
       "    .dataframe tbody tr th:only-of-type {\n",
       "        vertical-align: middle;\n",
       "    }\n",
       "\n",
       "    .dataframe tbody tr th {\n",
       "        vertical-align: top;\n",
       "    }\n",
       "\n",
       "    .dataframe thead th {\n",
       "        text-align: right;\n",
       "    }\n",
       "</style>\n",
       "<table border=\"1\" class=\"dataframe\">\n",
       "  <thead>\n",
       "    <tr style=\"text-align: right;\">\n",
       "      <th></th>\n",
       "      <th>IncomeGroup</th>\n",
       "      <th>Region</th>\n",
       "      <th>TableName</th>\n",
       "    </tr>\n",
       "  </thead>\n",
       "  <tbody>\n",
       "    <tr>\n",
       "      <th>0</th>\n",
       "      <td>High income</td>\n",
       "      <td>Latin America &amp; Caribbean</td>\n",
       "      <td>Aruba</td>\n",
       "    </tr>\n",
       "    <tr>\n",
       "      <th>1</th>\n",
       "      <td>0</td>\n",
       "      <td>0</td>\n",
       "      <td>Africa Eastern and Southern</td>\n",
       "    </tr>\n",
       "    <tr>\n",
       "      <th>2</th>\n",
       "      <td>Low income</td>\n",
       "      <td>South Asia</td>\n",
       "      <td>Afghanistan</td>\n",
       "    </tr>\n",
       "    <tr>\n",
       "      <th>3</th>\n",
       "      <td>0</td>\n",
       "      <td>0</td>\n",
       "      <td>Africa Western and Central</td>\n",
       "    </tr>\n",
       "    <tr>\n",
       "      <th>4</th>\n",
       "      <td>Lower middle income</td>\n",
       "      <td>Sub-Saharan Africa</td>\n",
       "      <td>Angola</td>\n",
       "    </tr>\n",
       "  </tbody>\n",
       "</table>\n",
       "</div>"
      ],
      "text/plain": [
       "           IncomeGroup                     Region                    TableName\n",
       "0          High income  Latin America & Caribbean                        Aruba\n",
       "1                    0                          0  Africa Eastern and Southern\n",
       "2           Low income                 South Asia                  Afghanistan\n",
       "3                    0                          0   Africa Western and Central\n",
       "4  Lower middle income         Sub-Saharan Africa                       Angola"
      ]
     },
     "execution_count": 34,
     "metadata": {},
     "output_type": "execute_result"
    }
   ],
   "source": [
    "Im = df[['IncomeGroup', 'Region', 'TableName']]\n",
    "Im_1 = Im.fillna(0)\n",
    "Im_1.head()"
   ]
  },
  {
   "cell_type": "code",
   "execution_count": 35,
   "id": "642815fe-95f0-4277-a194-38f9da052530",
   "metadata": {},
   "outputs": [
    {
     "data": {
      "text/plain": [
       "(265, 3)"
      ]
     },
     "execution_count": 35,
     "metadata": {},
     "output_type": "execute_result"
    }
   ],
   "source": [
    "Im_1.shape"
   ]
  },
  {
   "cell_type": "code",
   "execution_count": null,
   "id": "c4dbb1f6-8b75-4fd6-9097-7f0a03a6211a",
   "metadata": {},
   "outputs": [],
   "source": [
    "#Calculate Income Category (as count) related to Region data) + Making barplot"
   ]
  },
  {
   "cell_type": "code",
   "execution_count": 46,
   "id": "6d1842c4-1ae6-4677-bbfb-941bfe27e26f",
   "metadata": {},
   "outputs": [
    {
     "data": {
      "text/plain": [
       "Europe & Central Asia         38\n",
       "Latin America & Caribbean     17\n",
       "East Asia & Pacific           13\n",
       "Middle East & North Africa     8\n",
       "North America                  3\n",
       "Sub-Saharan Africa             1\n",
       "Name: Region, dtype: int64"
      ]
     },
     "execution_count": 46,
     "metadata": {},
     "output_type": "execute_result"
    }
   ],
   "source": [
    "A = Im_1.loc[Im_1[\"IncomeGroup\"] == \"High income\", \"Region\"]\n",
    "A.value_counts()"
   ]
  },
  {
   "cell_type": "code",
   "execution_count": 110,
   "id": "e7c28d67-7b6b-4e8a-be8b-6577b5b89fa4",
   "metadata": {},
   "outputs": [
    {
     "data": {
      "image/png": "[encoded data removed]",
      "text/plain": [
       "<Figure size 432x288 with 1 Axes>"
      ]
     },
     "metadata": {
      "needs_background": "light"
     },
     "output_type": "display_data"
    }
   ],
   "source": [
    "regions_1 = ['Europe & Central Asia', 'Latin America & Caribbean', 'East Asia & Pacific', 'Middle East & North Africa', 'North America', 'Sub-Saharan Africa']\n",
    "counts_1 = [38, 17, 13, 8, 3, 1]\n",
    "xcoords = np.arange(len(regions_1))\n",
    "plt.bar(xcoords, counts_1, tick_label = regions_1)\n",
    "plt.xticks(rotation = 90)\n",
    "plt.ylabel('Number of Countries')\n",
    "plt.title('High Income Countries')\n",
    "plt.show()"
   ]
  },
  {
   "cell_type": "code",
   "execution_count": 45,
   "id": "0da3edea-2634-4b46-aa71-d8afc541909f",
   "metadata": {},
   "outputs": [
    {
     "data": {
      "text/plain": [
       "Latin America & Caribbean     19\n",
       "Europe & Central Asia         16\n",
       "East Asia & Pacific            9\n",
       "Sub-Saharan Africa             6\n",
       "Middle East & North Africa     3\n",
       "South Asia                     1\n",
       "Name: Region, dtype: int64"
      ]
     },
     "execution_count": 45,
     "metadata": {},
     "output_type": "execute_result"
    }
   ],
   "source": [
    "B = Im_1.loc[Im_1[\"IncomeGroup\"] == \"Upper middle income\", \"Region\"]\n",
    "B.value_counts()"
   ]
  },
  {
   "cell_type": "code",
   "execution_count": 108,
   "id": "d1a4066c-0eeb-45e1-b518-6211b729ccd1",
   "metadata": {},
   "outputs": [
    {
     "data": {
      "image/png": "[encoded data removed]",
      "text/plain": [
       "<Figure size 432x288 with 1 Axes>"
      ]
     },
     "metadata": {
      "needs_background": "light"
     },
     "output_type": "display_data"
    }
   ],
   "source": [
    "regions_2 = ['Latin America & Caribbean', 'Europe & Central Asia', 'East Asia & Pacific', 'Middle East & North Africa', 'North America', 'Sub-Saharan Africa']\n",
    "counts_2 = [19, 16, 9, 6, 3, 1]\n",
    "xcoords = np.arange(len(regions_2))\n",
    "plt.bar(xcoords, counts_2, tick_label = regions_2)\n",
    "plt.xticks(rotation = 90)\n",
    "plt.ylabel('Number of Countries')\n",
    "plt.title('Upper middle Income Countries')\n",
    "plt.show()"
   ]
  },
  {
   "cell_type": "code",
   "execution_count": 69,
   "id": "fff60df7-d7c1-4fc7-bd2b-54678b40aa50",
   "metadata": {},
   "outputs": [
    {
     "data": {
      "text/plain": [
       "Sub-Saharan Africa            17\n",
       "East Asia & Pacific           14\n",
       "Middle East & North Africa     8\n",
       "South Asia                     6\n",
       "Latin America & Caribbean      5\n",
       "Europe & Central Asia          4\n",
       "Name: Region, dtype: int64"
      ]
     },
     "execution_count": 69,
     "metadata": {},
     "output_type": "execute_result"
    }
   ],
   "source": [
    "C = Im_1.loc[Im_1['IncomeGroup'] == 'Lower middle income', 'Region']\n",
    "C.value_counts()"
   ]
  },
  {
   "cell_type": "code",
   "execution_count": 109,
   "id": "42dd7785-0a19-4f4b-bfc0-c7a5289e56fa",
   "metadata": {},
   "outputs": [
    {
     "data": {
      "image/png": "[encoded data removed]",
      "text/plain": [
       "<Figure size 432x288 with 1 Axes>"
      ]
     },
     "metadata": {
      "needs_background": "light"
     },
     "output_type": "display_data"
    }
   ],
   "source": [
    "regions_3 = ['Sub-Saharan Africa', 'East Asia & Pacific', 'Middle East & North Africa', 'South Asia', 'Latin America & Caribbean', 'Europe & Central Asia']\n",
    "counts_3 = [17, 14, 8, 6, 5, 4]\n",
    "\n",
    "xcoords = np.arange(len(regions_3))\n",
    "plt.bar(xcoords, counts_3, tick_label= regions_3)\n",
    "plt.xticks(rotation=90)\n",
    "plt.xlabel('Countries')\n",
    "plt.ylabel('Lower Middle Income')\n",
    "plt.title('Lower Middle Income around the Globe')\n",
    "plt.show()"
   ]
  },
  {
   "cell_type": "code",
   "execution_count": 75,
   "id": "6c618c8d-2f1d-4071-885c-6a340e754880",
   "metadata": {},
   "outputs": [
    {
     "data": {
      "text/plain": [
       "Sub-Saharan Africa            24\n",
       "Middle East & North Africa     2\n",
       "South Asia                     1\n",
       "East Asia & Pacific            1\n",
       "Name: Region, dtype: int64"
      ]
     },
     "execution_count": 75,
     "metadata": {},
     "output_type": "execute_result"
    }
   ],
   "source": [
    "D = Im_1.loc[Im_1['IncomeGroup'] == 'Low income', 'Region']\n",
    "D.value_counts()"
   ]
  },
  {
   "cell_type": "code",
   "execution_count": 78,
   "id": "82640227-dbd2-402a-a49e-33fbd27c9ae9",
   "metadata": {},
   "outputs": [
    {
     "data": {
      "image/png": "[encoded data removed]",
      "text/plain": [
       "<Figure size 432x288 with 1 Axes>"
      ]
     },
     "metadata": {
      "needs_background": "light"
     },
     "output_type": "display_data"
    }
   ],
   "source": [
    "regions_4 = ['Sub-Saharan Africa', 'Middle East & North Africa', 'South Asia', 'East Asia & Pacific']\n",
    "counts_4 = [24, 2, 1, 1]\n",
    "\n",
    "xcoords = np.arange(len(regions_4))\n",
    "plt.bar(xcoords, counts_4, tick_label = regions_4)\n",
    "plt.xticks(rotation=90)\n",
    "plt.xlabel('Regions')\n",
    "plt.ylabel('Low Income Country')\n",
    "plt.title('Low Income region around the globe')\n",
    "plt.show()"
   ]
  },
  {
   "cell_type": "code",
   "execution_count": null,
   "id": "95b33fd4-c400-4e24-9d9e-802d7c994855",
   "metadata": {},
   "outputs": [],
   "source": [
    "#Calculate IncomeGroup (value counts) related to TableName/Country"
   ]
  },
  {
   "cell_type": "code",
   "execution_count": 79,
   "id": "ecdc7652-b1a8-41ac-a7ff-c66c7dbe4241",
   "metadata": {},
   "outputs": [
    {
     "data": {
      "text/plain": [
       "(80,)"
      ]
     },
     "execution_count": 79,
     "metadata": {},
     "output_type": "execute_result"
    }
   ],
   "source": [
    "E = Im_1.loc[Im_1['IncomeGroup'] == 'High income', 'TableName']\n",
    "E.shape"
   ]
  },
  {
   "cell_type": "code",
   "execution_count": 80,
   "id": "4d715784-e659-4149-88fd-b91faa071506",
   "metadata": {},
   "outputs": [
    {
     "data": {
      "text/plain": [
       "(54,)"
      ]
     },
     "execution_count": 80,
     "metadata": {},
     "output_type": "execute_result"
    }
   ],
   "source": [
    "F = Im_1.loc[Im_1['IncomeGroup'] == 'Lower middle income', 'TableName']\n",
    "F.shape"
   ]
  },
  {
   "cell_type": "code",
   "execution_count": 81,
   "id": "74bfd17a-34b6-40bb-a41e-b786fa670065",
   "metadata": {},
   "outputs": [
    {
     "data": {
      "text/plain": [
       "(54,)"
      ]
     },
     "execution_count": 81,
     "metadata": {},
     "output_type": "execute_result"
    }
   ],
   "source": [
    "G = Im_1.loc[Im_1['IncomeGroup'] == 'Upper middle income', 'TableName']\n",
    "G.shape"
   ]
  },
  {
   "cell_type": "code",
   "execution_count": 84,
   "id": "76976c05-8f25-406d-9900-6a3cbe895089",
   "metadata": {},
   "outputs": [
    {
     "data": {
      "text/plain": [
       "(28,)"
      ]
     },
     "execution_count": 84,
     "metadata": {},
     "output_type": "execute_result"
    }
   ],
   "source": [
    "H = Im_1.loc[Im_1['IncomeGroup'] == 'Low income', 'TableName']\n",
    "H.shape"
   ]
  },
  {
   "cell_type": "code",
   "execution_count": 92,
   "id": "753ead84-4f1e-4b5d-b0bb-d2e5b0d520f9",
   "metadata": {},
   "outputs": [
    {
     "data": {
      "text/plain": [
       "(49,)"
      ]
     },
     "execution_count": 92,
     "metadata": {},
     "output_type": "execute_result"
    }
   ],
   "source": [
    "#Missing Data\n",
    "I = Im_1.loc[Im_1['IncomeGroup'] == 0, 'TableName']\n",
    "I.shape"
   ]
  },
  {
   "cell_type": "code",
   "execution_count": 98,
   "id": "45df4b46-6790-4a53-8dca-53fde7fee8d8",
   "metadata": {},
   "outputs": [
    {
     "data": {
      "image/png": "[encoded data removed]",
      "text/plain": [
       "<Figure size 432x288 with 1 Axes>"
      ]
     },
     "metadata": {
      "needs_background": "light"
     },
     "output_type": "display_data"
    }
   ],
   "source": [
    "countries_ctg = ['High income', 'Upper middle income', 'Lower middle income', 'Low income', 'Missing data']\n",
    "counts_5 = [54, 28, 54, 28, 49]\n",
    "\n",
    "xcoords = np.arange(len(countries_ctg))\n",
    "plt.bar(xcoords, counts_5, tick_label = countries_ctg)\n",
    "plt.xticks(rotation = 90)\n",
    "plt.xlabel('Income Group')\n",
    "plt.ylabel('Number of Countries')\n",
    "plt.title('Income Category Country')\n",
    "plt.show()"
   ]
  },
  {
   "cell_type": "code",
   "execution_count": 112,
   "id": "ee43f07e-ccf7-450e-92e6-413cf9ff30a4",
   "metadata": {},
   "outputs": [],
   "source": [
    "#Ploting the Pie-chart as Income Category Visualization and Conclusion"
   ]
  },
  {
   "cell_type": "code",
   "execution_count": 113,
   "id": "76cec850-0773-4340-8eb6-935d29d66318",
   "metadata": {},
   "outputs": [
    {
     "data": {
      "image/png": "[encoded data removed]",
      "text/plain": [
       "<Figure size 432x288 with 1 Axes>"
      ]
     },
     "metadata": {},
     "output_type": "display_data"
    }
   ],
   "source": [
    "colors = ('#ADD8E6','#FFF5EE', '#FFD51F', '#E67F0D', '#D53032')\n",
    "plt.pie(counts_5, labels = countries_ctg, autopct = '%1.1f%%', colors= colors, shadow = True)\n",
    "plt.show()"
   ]
  },
  {
   "cell_type": "code",
   "execution_count": null,
   "id": "e139fa42-28d5-41be-be5a-a48792f960ce",
   "metadata": {},
   "outputs": [],
   "source": [
    "#Checking the correlation between IncomeGroup, Region & Country/ TableName"
   ]
  },
  {
   "cell_type": "code",
   "execution_count": null,
   "id": "5c5de729-1b8d-420f-bbbc-92be9f3bde5c",
   "metadata": {},
   "outputs": [],
   "source": [
    "Im_1['IncomeGroup'] = Im_1['IncomeGroup'].astype('category').cat.codes\n",
    "Im_1['Region'] = Im_1['Region'].astype('category').cat.codes\n",
    "corr1 = Im_1.corr()\n",
    "Im_1['IncomeGroup'] = Im_1['IncomeGroup'].astype('category').cat.codes\n",
    "Im_1['TableName'] = Im_1['TableName'].astype('category').cat.codes\n",
    "corr2 = Im_1.corr()"
   ]
  },
  {
   "cell_type": "code",
   "execution_count": 107,
   "id": "9f3dd060-b5af-4617-8ddd-98c20df82f83",
   "metadata": {},
   "outputs": [
    {
     "name": "stdout",
     "output_type": "stream",
     "text": [
      "             IncomeGroup    Region\n",
      "IncomeGroup     1.000000  0.425935\n",
      "Region          0.425935  1.000000\n",
      "             IncomeGroup    Region  TableName\n",
      "IncomeGroup     1.000000  0.425935  -0.030922\n",
      "Region          0.425935  1.000000  -0.030761\n",
      "TableName      -0.030922 -0.030761   1.000000\n"
     ]
    }
   ],
   "source": [
    "print(corr1)\n",
    "print(corr2)"
   ]
  },
  {
   "cell_type": "markdown",
   "id": "eda53f2b-9dc4-4efd-ac27-7ceea66a3da1",
   "metadata": {},
   "source": [
    "It is clear that High income and Lower middle income dominate the globe as per capita income of developed regions are significantly contributing more to income of working class people. "
   ]
  }
 ],
 "metadata": {
  "kernelspec": {
   "display_name": "Python 3 (ipykernel)",
   "language": "python",
   "name": "python3"
  },
  "language_info": {
   "codemirror_mode": {
    "name": "ipython",
    "version": 3
   },
   "file_extension": ".py",
   "mimetype": "text/x-python",
   "name": "python",
   "nbconvert_exporter": "python",
   "pygments_lexer": "ipython3",
   "version": "3.9.7"
  }
 },
 "nbformat": 4,
 "nbformat_minor": 5
}
